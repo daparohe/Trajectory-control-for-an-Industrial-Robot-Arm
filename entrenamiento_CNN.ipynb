{
 "cells": [
  {
   "cell_type": "markdown",
   "metadata": {},
   "source": [
    "**Importación de librerías**"
   ]
  },
  {
   "cell_type": "code",
   "execution_count": 63,
   "metadata": {},
   "outputs": [],
   "source": [
    "import os\n",
    "import pandas as pd\n",
    "import numpy as np\n",
    "import cv2\n",
    "import keras\n",
    "from sklearn.model_selection import train_test_split\n",
    "from keras.models import Sequential\n",
    "from keras import layers\n",
    "from keras.layers import Input, Conv2D, MaxPooling2D, Flatten, Dense\n",
    "import tensorflow as tf\n",
    "import matplotlib.pyplot as plt"
   ]
  },
  {
   "cell_type": "markdown",
   "metadata": {},
   "source": [
    "**Cargar el dataset**"
   ]
  },
  {
   "cell_type": "code",
   "execution_count": 64,
   "metadata": {},
   "outputs": [],
   "source": [
    "# Ruta de la carpeta con las imágenes\n",
    "images_folder='C:/Users/dapar/Desktop/im'\n",
    "\n",
    "# Cargar datos desde el archivo Excel\n",
    "data = pd.read_excel('X:/Archivos/Documentos/Trabajo/UTPL/Investigación control de disturbios/Código Python/Seguidor de línea CNN/Datos CNN/data.xlsx')\n",
    "\n",
    "# Crear una lista para almacenar las imágenes como matrices NumPy\n",
    "imagenes = []\n",
    "\n",
    "#cargar imágenes con opencv\n",
    "for i in range(len(data)):\n",
    "    image = cv2.imread(images_folder + f'/imagen{i}.jpg')\n",
    "    image = cv2.cvtColor(image,cv2.COLOR_BGR2GRAY)\n",
    "    imagenes.append(image)\n",
    "\n",
    "# Crear un dataFrame\n",
    "df = pd.DataFrame({'Diferencias': data['DIFERENCIA']})\n",
    "df[['X', 'Y']] = data[['X', 'Y']]"
   ]
  },
  {
   "cell_type": "markdown",
   "metadata": {},
   "source": [
    "**Análisis exploratorio de los datos**"
   ]
  },
  {
   "cell_type": "code",
   "execution_count": 65,
   "metadata": {},
   "outputs": [
    {
     "name": "stdout",
     "output_type": "stream",
     "text": [
      "7918 7918\n"
     ]
    }
   ],
   "source": [
    "#revisar si coincide el número de datos y de imágenes\n",
    "print(len(data),len(imagenes))"
   ]
  },
  {
   "cell_type": "code",
   "execution_count": 66,
   "metadata": {},
   "outputs": [
    {
     "data": {
      "text/plain": [
       "<bound method NDFrame.head of       Diferencias         X         Y\n",
       "0           -9780 -0.666667  0.166667\n",
       "1          -16119 -0.666667  0.166667\n",
       "2          -17181 -0.666667  0.166667\n",
       "3          -17922 -0.666667  0.166667\n",
       "4          -16851 -0.666667  0.166667\n",
       "...           ...       ...       ...\n",
       "7913        -3321 -0.114309  0.701357\n",
       "7914        -3093 -0.108147  0.716309\n",
       "7915        -2634 -0.095260  0.745803\n",
       "7916        -2082 -0.078752  0.771930\n",
       "7917        -1083 -0.045095  0.800422\n",
       "\n",
       "[7918 rows x 3 columns]>"
      ]
     },
     "execution_count": 66,
     "metadata": {},
     "output_type": "execute_result"
    }
   ],
   "source": [
    "#revisar brevemente el dataset\n",
    "df.head"
   ]
  },
  {
   "cell_type": "code",
   "execution_count": 67,
   "metadata": {},
   "outputs": [
    {
     "data": {
      "text/plain": [
       "Diferencias      int64\n",
       "X              float64\n",
       "Y              float64\n",
       "dtype: object"
      ]
     },
     "execution_count": 67,
     "metadata": {},
     "output_type": "execute_result"
    }
   ],
   "source": [
    "#revisar los tipos de datos del dataset\n",
    "df.dtypes"
   ]
  },
  {
   "cell_type": "code",
   "execution_count": 69,
   "metadata": {},
   "outputs": [
    {
     "data": {
      "text/plain": [
       "(770, 100)"
      ]
     },
     "execution_count": 69,
     "metadata": {},
     "output_type": "execute_result"
    }
   ],
   "source": [
    "#comprobar las dimensiones de las imágenes\n",
    "imagenes[1000].shape"
   ]
  },
  {
   "cell_type": "code",
   "execution_count": 70,
   "metadata": {},
   "outputs": [
    {
     "data": {
      "text/plain": [
       "<matplotlib.image.AxesImage at 0x2ac727f3410>"
      ]
     },
     "execution_count": 70,
     "metadata": {},
     "output_type": "execute_result"
    },
    {
     "data": {
      "image/png": "[encoded data removed]",
      "text/plain": [
       "<Figure size 640x480 with 1 Axes>"
      ]
     },
     "metadata": {},
     "output_type": "display_data"
    }
   ],
   "source": [
    "#comprobar las imágenes cargadas\n",
    "plt.imshow(imagenes[1000])"
   ]
  },
  {
   "cell_type": "code",
   "execution_count": 71,
   "metadata": {},
   "outputs": [
    {
     "name": "stdout",
     "output_type": "stream",
     "text": [
      "0\n"
     ]
    }
   ],
   "source": [
    "# número de valores nulos\n",
    "print(df.isnull().sum().sum())"
   ]
  },
  {
   "cell_type": "code",
   "execution_count": 72,
   "metadata": {},
   "outputs": [
    {
     "data": {
      "text/html": [
       "<div>\n",
       "<style scoped>\n",
       "    .dataframe tbody tr th:only-of-type {\n",
       "        vertical-align: middle;\n",
       "    }\n",
       "\n",
       "    .dataframe tbody tr th {\n",
       "        vertical-align: top;\n",
       "    }\n",
       "\n",
       "    .dataframe thead th {\n",
       "        text-align: right;\n",
       "    }\n",
       "</style>\n",
       "<table border=\"1\" class=\"dataframe\">\n",
       "  <thead>\n",
       "    <tr style=\"text-align: right;\">\n",
       "      <th></th>\n",
       "      <th>Diferencias</th>\n",
       "      <th>X</th>\n",
       "      <th>Y</th>\n",
       "    </tr>\n",
       "  </thead>\n",
       "  <tbody>\n",
       "    <tr>\n",
       "      <th>count</th>\n",
       "      <td>7918.000000</td>\n",
       "      <td>7918.000000</td>\n",
       "      <td>7918.000000</td>\n",
       "    </tr>\n",
       "    <tr>\n",
       "      <th>mean</th>\n",
       "      <td>-295.839859</td>\n",
       "      <td>-0.050645</td>\n",
       "      <td>0.224562</td>\n",
       "    </tr>\n",
       "    <tr>\n",
       "      <th>std</th>\n",
       "      <td>17657.553441</td>\n",
       "      <td>0.629432</td>\n",
       "      <td>0.165388</td>\n",
       "    </tr>\n",
       "    <tr>\n",
       "      <th>min</th>\n",
       "      <td>-27780.000000</td>\n",
       "      <td>-0.666667</td>\n",
       "      <td>0.166667</td>\n",
       "    </tr>\n",
       "    <tr>\n",
       "      <th>25%</th>\n",
       "      <td>-17163.000000</td>\n",
       "      <td>-0.666667</td>\n",
       "      <td>0.166667</td>\n",
       "    </tr>\n",
       "    <tr>\n",
       "      <th>50%</th>\n",
       "      <td>-4428.000000</td>\n",
       "      <td>-0.205180</td>\n",
       "      <td>0.166667</td>\n",
       "    </tr>\n",
       "    <tr>\n",
       "      <th>75%</th>\n",
       "      <td>18270.000000</td>\n",
       "      <td>0.666667</td>\n",
       "      <td>0.166667</td>\n",
       "    </tr>\n",
       "    <tr>\n",
       "      <th>max</th>\n",
       "      <td>43671.000000</td>\n",
       "      <td>0.666667</td>\n",
       "      <td>0.833238</td>\n",
       "    </tr>\n",
       "  </tbody>\n",
       "</table>\n",
       "</div>"
      ],
      "text/plain": [
       "        Diferencias            X            Y\n",
       "count   7918.000000  7918.000000  7918.000000\n",
       "mean    -295.839859    -0.050645     0.224562\n",
       "std    17657.553441     0.629432     0.165388\n",
       "min   -27780.000000    -0.666667     0.166667\n",
       "25%   -17163.000000    -0.666667     0.166667\n",
       "50%    -4428.000000    -0.205180     0.166667\n",
       "75%    18270.000000     0.666667     0.166667\n",
       "max    43671.000000     0.666667     0.833238"
      ]
     },
     "execution_count": 72,
     "metadata": {},
     "output_type": "execute_result"
    }
   ],
   "source": [
    "#distribución de variables\n",
    "df.describe()"
   ]
  },
  {
   "cell_type": "code",
   "execution_count": 76,
   "metadata": {},
   "outputs": [
    {
     "name": "stdout",
     "output_type": "stream",
     "text": [
      "3205\n",
      "0\n",
      "[]\n"
     ]
    }
   ],
   "source": [
    "#eliminación de instancias repetidas (misma imagen, mismos datos, para evitar redundancia)\n",
    "\n",
    "# Encontrar índices de instancias repetidas en base a las columnas Diferencia, X y Y\n",
    "indices_rep_data = df[df.duplicated(['Diferencias','X', 'Y'])].index\n",
    "\n",
    "indices_rep = []  # Lista para almacenar los índices de instancias que se repiten\n",
    "\n",
    "# Comparar imágenes en base a los índices duplicados de datos\n",
    "for i, idx1 in enumerate(indices_rep_data):\n",
    "    for idx2 in indices_rep_data[i+1:]:\n",
    "        if (imagenes[idx1] == imagenes[idx2]).all():\n",
    "            indices_rep.append(idx1)\n",
    "            indices_rep.append(idx2)\n",
    "        \n",
    "# Se imprime el número de imágenes repetidas\n",
    "print(len(indices_rep_data))\n",
    "print(len(indices_rep))\n",
    "print(indices_rep)"
   ]
  },
  {
   "cell_type": "markdown",
   "metadata": {},
   "source": [
    "Hay 3000 instancias de datos numéricos que se repiten, pero las imágenes de las mismas instancias son distintas entre ellas; por tanto las instancias no son las mismas. No hay datos que deban eliminarse."
   ]
  },
  {
   "cell_type": "code",
   "execution_count": 77,
   "metadata": {},
   "outputs": [
    {
     "data": {
      "text/html": [
       "<div>\n",
       "<style scoped>\n",
       "    .dataframe tbody tr th:only-of-type {\n",
       "        vertical-align: middle;\n",
       "    }\n",
       "\n",
       "    .dataframe tbody tr th {\n",
       "        vertical-align: top;\n",
       "    }\n",
       "\n",
       "    .dataframe thead th {\n",
       "        text-align: right;\n",
       "    }\n",
       "</style>\n",
       "<table border=\"1\" class=\"dataframe\">\n",
       "  <thead>\n",
       "    <tr style=\"text-align: right;\">\n",
       "      <th></th>\n",
       "      <th>Diferencias</th>\n",
       "      <th>X</th>\n",
       "      <th>Y</th>\n",
       "    </tr>\n",
       "  </thead>\n",
       "  <tbody>\n",
       "    <tr>\n",
       "      <th>Diferencias</th>\n",
       "      <td>1.000000</td>\n",
       "      <td>0.964902</td>\n",
       "      <td>-0.021695</td>\n",
       "    </tr>\n",
       "    <tr>\n",
       "      <th>X</th>\n",
       "      <td>0.964902</td>\n",
       "      <td>1.000000</td>\n",
       "      <td>-0.008426</td>\n",
       "    </tr>\n",
       "    <tr>\n",
       "      <th>Y</th>\n",
       "      <td>-0.021695</td>\n",
       "      <td>-0.008426</td>\n",
       "      <td>1.000000</td>\n",
       "    </tr>\n",
       "  </tbody>\n",
       "</table>\n",
       "</div>"
      ],
      "text/plain": [
       "             Diferencias         X         Y\n",
       "Diferencias     1.000000  0.964902 -0.021695\n",
       "X               0.964902  1.000000 -0.008426\n",
       "Y              -0.021695 -0.008426  1.000000"
      ]
     },
     "execution_count": 77,
     "metadata": {},
     "output_type": "execute_result"
    }
   ],
   "source": [
    "#matriz de correlación\n",
    "df.corr()"
   ]
  },
  {
   "cell_type": "markdown",
   "metadata": {},
   "source": [
    "La diferencia tiene alta correlación con la variable X y muy baja con la variable Y"
   ]
  },
  {
   "cell_type": "markdown",
   "metadata": {},
   "source": [
    "**Separación en datos de entrenamiento y datos de prueba**"
   ]
  },
  {
   "cell_type": "code",
   "execution_count": 94,
   "metadata": {},
   "outputs": [
    {
     "name": "stdout",
     "output_type": "stream",
     "text": [
      "Forma de entradas_train: (6334, 770, 100)\n",
      "Forma de entradas_test: (1584, 770, 100)\n",
      "Forma de salidas_train: (6334, 2)\n",
      "Forma de salidas_test: (1584, 2)\n"
     ]
    }
   ],
   "source": [
    "salidas = df[['X','Y']].values\n",
    "imagenes=np.asarray(imagenes).astype(np.float32)\n",
    "\n",
    "# Dividir los datos en conjuntos de entrenamiento y prueba\n",
    "entradas_train, entradas_test,  salidas_train, salidas_test = train_test_split(imagenes, salidas, test_size=0.2, random_state=42)\n",
    "\n",
    "# Normalizar las imágenes\n",
    "entradas_train /= 255\n",
    "entradas_test /= 255\n",
    "\n",
    "print(\"Forma de entradas_train:\", entradas_train.shape)\n",
    "print(\"Forma de entradas_test:\", entradas_test.shape)\n",
    "print(\"Forma de salidas_train:\", salidas_train.shape)\n",
    "print(\"Forma de salidas_test:\", salidas_test.shape)"
   ]
  },
  {
   "cell_type": "markdown",
   "metadata": {},
   "source": [
    "**Creación del modelo de CNN**"
   ]
  },
  {
   "cell_type": "code",
   "execution_count": 96,
   "metadata": {},
   "outputs": [
    {
     "name": "stdout",
     "output_type": "stream",
     "text": [
      "Model: \"sequential_15\"\n",
      "_________________________________________________________________\n",
      " Layer (type)                Output Shape              Param #   \n",
      "=================================================================\n",
      " conv2d_39 (Conv2D)          (None, 770, 100, 32)      320       \n",
      "                                                                 \n",
      " max_pooling2d_37 (MaxPooli  (None, 385, 50, 32)       0         \n",
      " ng2D)                                                           \n",
      "                                                                 \n",
      " conv2d_40 (Conv2D)          (None, 385, 50, 64)       18496     \n",
      "                                                                 \n",
      " max_pooling2d_38 (MaxPooli  (None, 192, 25, 64)       0         \n",
      " ng2D)                                                           \n",
      "                                                                 \n",
      " flatten_18 (Flatten)        (None, 307200)            0         \n",
      "                                                                 \n",
      " dense_34 (Dense)            (None, 128)               39321728  \n",
      "                                                                 \n",
      " dense_35 (Dense)            (None, 2)                 258       \n",
      "                                                                 \n",
      "=================================================================\n",
      "Total params: 39340802 (150.07 MB)\n",
      "Trainable params: 39340802 (150.07 MB)\n",
      "Non-trainable params: 0 (0.00 Byte)\n",
      "_________________________________________________________________\n"
     ]
    }
   ],
   "source": [
    "# Crear el modelo\n",
    "model = Sequential()\n",
    "\n",
    "# Capas convolucionales\n",
    "model.add(Conv2D(32, (3, 3), padding='same', activation='relu', input_shape=(770, 100, 1)))\n",
    "model.add(MaxPooling2D((2, 2), strides=(2, 2)))\n",
    "\n",
    "# Capas de pooling\n",
    "model.add(Conv2D(64, (3, 3), padding='same', activation='relu'))\n",
    "model.add(MaxPooling2D((2, 2), strides=(2, 2)))\n",
    "\n",
    "# Capa plana\n",
    "model.add(Flatten())\n",
    "\n",
    "# Capas densas\n",
    "model.add(Dense(128, activation='relu'))\n",
    "model.add(Dense(2, activation='linear'))\n",
    "\n",
    "# Compilar el modelo\n",
    "model.compile(optimizer='adam', loss='mse', metrics=['accuracy']) #se considera el error cuadrático medio porque se trata de un problema de regresión\n",
    "\n",
    "model.summary()"
   ]
  },
  {
   "cell_type": "markdown",
   "metadata": {},
   "source": [
    "**Entrenamiento del modelo**"
   ]
  },
  {
   "cell_type": "code",
   "execution_count": 97,
   "metadata": {},
   "outputs": [
    {
     "name": "stdout",
     "output_type": "stream",
     "text": [
      "Epoch 1/10\n",
      "50/50 [==============================] - 229s 5s/step - loss: 24.4840 - accuracy: 0.6238\n",
      "Epoch 2/10\n",
      "50/50 [==============================] - 226s 5s/step - loss: 0.0661 - accuracy: 0.9267\n",
      "Epoch 3/10\n",
      "50/50 [==============================] - 226s 5s/step - loss: 0.0071 - accuracy: 0.9973\n",
      "Epoch 4/10\n",
      "50/50 [==============================] - 222s 4s/step - loss: 0.0034 - accuracy: 0.9975\n",
      "Epoch 5/10\n",
      "50/50 [==============================] - 224s 4s/step - loss: 0.0019 - accuracy: 0.9979\n",
      "Epoch 6/10\n",
      "50/50 [==============================] - 231s 5s/step - loss: 0.0011 - accuracy: 0.9984\n",
      "Epoch 7/10\n",
      "50/50 [==============================] - 275s 5s/step - loss: 7.4069e-04 - accuracy: 0.9987\n",
      "Epoch 8/10\n",
      "50/50 [==============================] - 256s 5s/step - loss: 5.4455e-04 - accuracy: 0.9986\n",
      "Epoch 9/10\n",
      "50/50 [==============================] - 256s 5s/step - loss: 3.8812e-04 - accuracy: 0.9987\n",
      "Epoch 10/10\n",
      "50/50 [==============================] - 252s 5s/step - loss: 2.9218e-04 - accuracy: 0.9987\n"
     ]
    },
    {
     "data": {
      "image/png": "[encoded data removed]",
      "text/plain": [
       "<Figure size 640x480 with 1 Axes>"
      ]
     },
     "metadata": {},
     "output_type": "display_data"
    }
   ],
   "source": [
    "# Entrenar el modelo\n",
    "history = model.fit(entradas_train, salidas_train, epochs=10, batch_size=128)\n",
    "\n",
    "# Obtener los datos de precisión y pérdida\n",
    "precision = history.history['accuracy']\n",
    "loss = history.history['loss']\n",
    "\n",
    "# Crear las gráficas\n",
    "plt.plot(range(1, len(precision) + 1), precision, label='Precisión')\n",
    "plt.plot(range(1, len(loss) + 1), loss, label='MSE')\n",
    "plt.legend()\n",
    "plt.show()"
   ]
  },
  {
   "cell_type": "markdown",
   "metadata": {},
   "source": [
    "**Evaluación del modelo**"
   ]
  },
  {
   "cell_type": "code",
   "execution_count": 98,
   "metadata": {},
   "outputs": [
    {
     "name": "stdout",
     "output_type": "stream",
     "text": [
      "MSE: 0.0008395278709940612\n",
      "Precisión: 0.997474730014801\n"
     ]
    }
   ],
   "source": [
    "# Evaluar el modelo\n",
    "score = model.evaluate(entradas_test, salidas_test, verbose=0)\n",
    "print('MSE:', score[0])\n",
    "print('Precisión:', score[1])"
   ]
  },
  {
   "cell_type": "markdown",
   "metadata": {},
   "source": [
    "**Exportación del modelo**"
   ]
  },
  {
   "cell_type": "code",
   "execution_count": 100,
   "metadata": {},
   "outputs": [],
   "source": [
    "# Guardar el modelo entrenado en un archivo h5\n",
    "model.save('cnn_modelo.keras')"
   ]
  }
 ],
 "metadata": {
  "kernelspec": {
   "display_name": "Python 3",
   "language": "python",
   "name": "python3"
  },
  "language_info": {
   "codemirror_mode": {
    "name": "ipython",
    "version": 3
   },
   "file_extension": ".py",
   "mimetype": "text/x-python",
   "name": "python",
   "nbconvert_exporter": "python",
   "pygments_lexer": "ipython3",
   "version": "3.11.5"
  },
  "orig_nbformat": 4
 },
 "nbformat": 4,
 "nbformat_minor": 2
}
